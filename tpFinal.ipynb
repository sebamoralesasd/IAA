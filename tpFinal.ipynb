{
  "nbformat": 4,
  "nbformat_minor": 0,
  "metadata": {
    "colab": {
      "name": "TPFinal.ipynb",
      "provenance": [],
      "collapsed_sections": []
    },
    "kernelspec": {
      "name": "python3",
      "display_name": "Python 3"
    },
    "language_info": {
      "name": "python"
    },
    "accelerator": "GPU",
    "gpuClass": "standard"
  },
  "cells": [
    {
      "cell_type": "code",
      "execution_count": 16,
      "metadata": {
        "id": "NyQ9hDUA4AaO"
      },
      "outputs": [],
      "source": [
        "import tensorflow as tf\n",
        "\n",
        "from tensorflow import keras\n",
        "from tensorflow.keras import datasets, layers, models\n",
        "import matplotlib.pyplot as plt\n",
        "from sklearn.model_selection import train_test_split\n"
      ]
    },
    {
      "cell_type": "markdown",
      "source": [
        "Ejercicio 1"
      ],
      "metadata": {
        "id": "iw8XINCa3UNS"
      }
    },
    {
      "cell_type": "code",
      "source": [
        "def evaluate(model, test_images, test_labels):\n",
        "  test_loss, test_acc = model.evaluate(test_images,  test_labels)\n",
        "  print(f\"Error en el conjunto de test: {1 - test_acc}\")"
      ],
      "metadata": {
        "id": "Uly1cYYn6M6G"
      },
      "execution_count": 2,
      "outputs": []
    },
    {
      "cell_type": "code",
      "source": [
        "def graph_errores(history, model):\n",
        "  error_train = list(map(lambda x: 1-x, history.history['accuracy']))\n",
        "  error_val = list(map(lambda x: 1-x,  history.history['val_accuracy']))\n",
        "\n",
        "  plt.plot(error_train, label='Error train')\n",
        "  plt.plot(error_val, label = 'Error validacion')\n",
        "  plt.xlabel('Épocas')\n",
        "  plt.ylabel('Error')\n",
        "  plt.legend()\n",
        "  plt.show()"
      ],
      "metadata": {
        "id": "qnYDENHs6nNz"
      },
      "execution_count": 3,
      "outputs": []
    },
    {
      "cell_type": "code",
      "source": [
        "def get_dataset(dataset):\n",
        "  (train_images, train_labels), (test_images, test_labels) = dataset.load_data()\n",
        "\n",
        "  # Normalize pixel values to be between 0 and 1\n",
        "  train_images, test_images = train_images / 255.0, test_images / 255.0\n",
        "\n",
        "  return train_images, train_labels, test_images, test_labels"
      ],
      "metadata": {
        "id": "pMNQP0Sc5KK4"
      },
      "execution_count": 4,
      "outputs": []
    },
    {
      "cell_type": "code",
      "source": [
        "def ej1_fit(model):\n",
        "  train_images, train_labels, test_images, test_labels = get_dataset(datasets.cifar10)\n",
        "\n",
        "  train_images, val_images, train_labels, val_labels = train_test_split(\n",
        "      train_images, train_labels, test_size=0.2, random_state=0\n",
        "      )\n",
        "\n",
        "  model.compile(optimizer='adam',\n",
        "                loss=tf.keras.losses.SparseCategoricalCrossentropy(from_logits=True),\n",
        "                metrics=['accuracy'])\n",
        "\n",
        "  history = model.fit(train_images, train_labels, epochs=10, \n",
        "                      validation_data=(val_images, val_labels))\n",
        "  \n",
        "  return history, model, test_images, test_labels"
      ],
      "metadata": {
        "id": "huePSKux2jpj"
      },
      "execution_count": 5,
      "outputs": []
    },
    {
      "cell_type": "code",
      "source": [
        "def ej1():\n",
        "  model = models.Sequential()\n",
        "  model.add(layers.Conv2D(32, (3, 3), activation='relu', padding='same', input_shape=(32, 32, 3)))\n",
        "  model.add(layers.MaxPooling2D((2, 2)))\n",
        "  model.add(layers.Conv2D(64, (3, 3), padding='same', activation='relu'))\n",
        "  model.add(layers.Conv2D(64, (3, 3), padding='same', activation='relu'))\n",
        "  model.add(layers.MaxPooling2D((2, 2)))\n",
        "  model.add(layers.Conv2D(64, (3, 3), padding='same', activation='relu'))\n",
        "  model.add(layers.Conv2D(64, (3, 3), padding='same', activation='relu'))\n",
        "\n",
        "  model.add(layers.Flatten())\n",
        "\n",
        "  model.add(layers.Dense(64))\n",
        "  model.add(layers.Dense(128))\n",
        "  model.add(layers.Dense(128))\n",
        "  model.add(layers.Dense(10))\n",
        "\n",
        "  return ej1_fit(model)"
      ],
      "metadata": {
        "id": "qadOMQgJ3yp8"
      },
      "execution_count": 6,
      "outputs": []
    },
    {
      "cell_type": "code",
      "source": [
        "history, fit_model, test_images, test_labels = ej1()"
      ],
      "metadata": {
        "id": "qZMzPwyD76C5",
        "colab": {
          "base_uri": "https://localhost:8080/"
        },
        "outputId": "0bf1dcb0-e3a8-4bcd-dfa9-4ee0b1288ad1"
      },
      "execution_count": 7,
      "outputs": [
        {
          "output_type": "stream",
          "name": "stdout",
          "text": [
            "Downloading data from https://www.cs.toronto.edu/~kriz/cifar-10-python.tar.gz\n",
            "170500096/170498071 [==============================] - 14s 0us/step\n",
            "170508288/170498071 [==============================] - 14s 0us/step\n",
            "Epoch 1/10\n",
            "1250/1250 [==============================] - 19s 5ms/step - loss: 1.5245 - accuracy: 0.4425 - val_loss: 1.3170 - val_accuracy: 0.5294\n",
            "Epoch 2/10\n",
            "1250/1250 [==============================] - 6s 5ms/step - loss: 1.0985 - accuracy: 0.6109 - val_loss: 1.0344 - val_accuracy: 0.6377\n",
            "Epoch 3/10\n",
            "1250/1250 [==============================] - 6s 5ms/step - loss: 0.9100 - accuracy: 0.6790 - val_loss: 0.9581 - val_accuracy: 0.6617\n",
            "Epoch 4/10\n",
            "1250/1250 [==============================] - 6s 5ms/step - loss: 0.8053 - accuracy: 0.7163 - val_loss: 0.9061 - val_accuracy: 0.6864\n",
            "Epoch 5/10\n",
            "1250/1250 [==============================] - 6s 5ms/step - loss: 0.7240 - accuracy: 0.7448 - val_loss: 0.8568 - val_accuracy: 0.7050\n",
            "Epoch 6/10\n",
            "1250/1250 [==============================] - 6s 5ms/step - loss: 0.6478 - accuracy: 0.7728 - val_loss: 0.8619 - val_accuracy: 0.7047\n",
            "Epoch 7/10\n",
            "1250/1250 [==============================] - 6s 5ms/step - loss: 0.5860 - accuracy: 0.7932 - val_loss: 0.9187 - val_accuracy: 0.6960\n",
            "Epoch 8/10\n",
            "1250/1250 [==============================] - 7s 5ms/step - loss: 0.5241 - accuracy: 0.8141 - val_loss: 0.9200 - val_accuracy: 0.7085\n",
            "Epoch 9/10\n",
            "1250/1250 [==============================] - 6s 5ms/step - loss: 0.4667 - accuracy: 0.8325 - val_loss: 0.9747 - val_accuracy: 0.7048\n",
            "Epoch 10/10\n",
            "1250/1250 [==============================] - 6s 5ms/step - loss: 0.4158 - accuracy: 0.8525 - val_loss: 0.9739 - val_accuracy: 0.7068\n"
          ]
        }
      ]
    },
    {
      "cell_type": "code",
      "source": [
        "graph_errores(history, fit_model)\n",
        "evaluate(fit_model, test_images, test_labels)"
      ],
      "metadata": {
        "id": "RZVFGdkm76c6",
        "colab": {
          "base_uri": "https://localhost:8080/",
          "height": 316
        },
        "outputId": "79f2663b-17d5-4f4e-b485-bc8901633590"
      },
      "execution_count": 8,
      "outputs": [
        {
          "output_type": "display_data",
          "data": {
            "text/plain": [
              "<Figure size 432x288 with 1 Axes>"
            ],
            "image/png": "[encoded data removed]"
          },
          "metadata": {
            "needs_background": "light"
          }
        },
        {
          "output_type": "stream",
          "name": "stdout",
          "text": [
            "313/313 [==============================] - 1s 3ms/step - loss: 0.9956 - accuracy: 0.7016\n",
            "Error en el conjunto de test: 0.29839998483657837\n"
          ]
        }
      ]
    },
    {
      "cell_type": "markdown",
      "source": [
        "Con este modelo, se logró un error de aproximadamente 0.3 sobre el conjunto de test. A partir del gráfico se puede observar también que se produjo sobreajuste en las primeras épocas. \n",
        "\n",
        "---"
      ],
      "metadata": {
        "id": "cIvTesWu--TL"
      }
    },
    {
      "cell_type": "code",
      "source": [
        "def ej2_fit(model):\n",
        "  train_images, train_labels, test_images, test_labels = get_dataset(datasets.cifar10)\n",
        "\n",
        "  train_images, val_images, train_labels, val_labels = train_test_split(\n",
        "      train_images, train_labels, test_size=0.2, random_state=0\n",
        "      )\n",
        "\n",
        "  model.compile(optimizer='adam',\n",
        "                loss=tf.keras.losses.SparseCategoricalCrossentropy(from_logits=True),\n",
        "                metrics=['accuracy'])\n",
        "\n",
        "  history = model.fit(train_images, train_labels, epochs=20, \n",
        "                      validation_data=(val_images, val_labels))\n",
        "\n",
        "  return history, model, test_images, test_labels"
      ],
      "metadata": {
        "id": "LO_DdA4Gp7hV"
      },
      "execution_count": 10,
      "outputs": []
    },
    {
      "cell_type": "code",
      "source": [
        "def ej2(p):\n",
        "  model = models.Sequential()\n",
        "  model.add(layers.Conv2D(32, (3, 3), activation='relu', padding='same', input_shape=(32, 32, 3)))\n",
        "  model.add(layers.MaxPooling2D((2, 2)))\n",
        "  model.add(layers.Conv2D(64, (3, 3), padding='same', activation='relu'))\n",
        "  model.add(layers.Conv2D(64, (3, 3), padding='same', activation='relu'))\n",
        "  model.add(layers.MaxPooling2D((2, 2)))\n",
        "  model.add(layers.Conv2D(64, (3, 3), padding='same', activation='relu'))\n",
        "  model.add(layers.Conv2D(64, (3, 3), padding='same', activation='relu'))\n",
        "\n",
        "  model.add(layers.Dropout(p, input_shape=(32, 32, 3)))\n",
        "  model.add(layers.Flatten())\n",
        "\n",
        "  model.add(layers.Dense(64))\n",
        "  model.add(layers.Dropout(p, input_shape=(32, 32, 3)))\n",
        "\n",
        "  model.add(layers.Dense(128))\n",
        "  model.add(layers.Dense(128))\n",
        "  model.add(layers.Dense(10))\n",
        "\n",
        "  return ej2_fit(model)"
      ],
      "metadata": {
        "id": "i1M6TEcwqFNj"
      },
      "execution_count": 11,
      "outputs": []
    },
    {
      "cell_type": "code",
      "source": [
        "for p in [0.2, 0.5]:\n",
        "  print(f\"Regularización por dropout con p = {p}\")\n",
        "  history, fit_model, test_images, test_labels = ej2(p)\n",
        "  graph_errores(history, fit_model)\n",
        "  evaluate(fit_model, test_images, test_labels)\n",
        "  print(\"\\n\\n\")"
      ],
      "metadata": {
        "colab": {
          "base_uri": "https://localhost:8080/",
          "height": 1000
        },
        "id": "CuCWd5BUqf3D",
        "outputId": "a6556903-384a-45b7-ef77-66958b4855eb"
      },
      "execution_count": 13,
      "outputs": [
        {
          "output_type": "stream",
          "name": "stdout",
          "text": [
            "Regularización por dropout con p = 0.2\n",
            "Epoch 1/20\n",
            "1250/1250 [==============================] - 8s 6ms/step - loss: 1.5839 - accuracy: 0.4133 - val_loss: 1.2935 - val_accuracy: 0.5254\n",
            "Epoch 2/20\n",
            "1250/1250 [==============================] - 7s 6ms/step - loss: 1.2098 - accuracy: 0.5671 - val_loss: 1.1675 - val_accuracy: 0.5949\n",
            "Epoch 3/20\n",
            "1250/1250 [==============================] - 6s 5ms/step - loss: 1.0388 - accuracy: 0.6356 - val_loss: 0.9735 - val_accuracy: 0.6558\n",
            "Epoch 4/20\n",
            "1250/1250 [==============================] - 7s 5ms/step - loss: 0.9256 - accuracy: 0.6756 - val_loss: 0.9032 - val_accuracy: 0.6830\n",
            "Epoch 5/20\n",
            "1250/1250 [==============================] - 6s 5ms/step - loss: 0.8444 - accuracy: 0.7052 - val_loss: 0.8489 - val_accuracy: 0.7008\n",
            "Epoch 6/20\n",
            "1250/1250 [==============================] - 6s 5ms/step - loss: 0.7806 - accuracy: 0.7239 - val_loss: 0.8669 - val_accuracy: 0.7021\n",
            "Epoch 7/20\n",
            "1250/1250 [==============================] - 6s 5ms/step - loss: 0.7271 - accuracy: 0.7427 - val_loss: 0.8679 - val_accuracy: 0.7030\n",
            "Epoch 8/20\n",
            "1250/1250 [==============================] - 6s 5ms/step - loss: 0.6732 - accuracy: 0.7621 - val_loss: 0.8568 - val_accuracy: 0.7139\n",
            "Epoch 9/20\n",
            "1250/1250 [==============================] - 6s 5ms/step - loss: 0.6295 - accuracy: 0.7775 - val_loss: 0.8669 - val_accuracy: 0.7123\n",
            "Epoch 10/20\n",
            "1250/1250 [==============================] - 6s 5ms/step - loss: 0.5893 - accuracy: 0.7928 - val_loss: 0.8247 - val_accuracy: 0.7262\n",
            "Epoch 11/20\n",
            "1250/1250 [==============================] - 6s 5ms/step - loss: 0.5541 - accuracy: 0.8049 - val_loss: 0.8594 - val_accuracy: 0.7272\n",
            "Epoch 12/20\n",
            "1250/1250 [==============================] - 7s 5ms/step - loss: 0.5116 - accuracy: 0.8194 - val_loss: 0.8833 - val_accuracy: 0.7159\n",
            "Epoch 13/20\n",
            "1250/1250 [==============================] - 6s 5ms/step - loss: 0.4833 - accuracy: 0.8283 - val_loss: 0.9088 - val_accuracy: 0.7159\n",
            "Epoch 14/20\n",
            "1250/1250 [==============================] - 6s 5ms/step - loss: 0.4552 - accuracy: 0.8391 - val_loss: 0.9199 - val_accuracy: 0.7189\n",
            "Epoch 15/20\n",
            "1250/1250 [==============================] - 6s 5ms/step - loss: 0.4307 - accuracy: 0.8475 - val_loss: 0.9258 - val_accuracy: 0.7131\n",
            "Epoch 16/20\n",
            "1250/1250 [==============================] - 6s 5ms/step - loss: 0.4048 - accuracy: 0.8552 - val_loss: 0.9223 - val_accuracy: 0.7199\n",
            "Epoch 17/20\n",
            "1250/1250 [==============================] - 6s 5ms/step - loss: 0.3869 - accuracy: 0.8619 - val_loss: 0.9479 - val_accuracy: 0.7126\n",
            "Epoch 18/20\n",
            "1250/1250 [==============================] - 6s 5ms/step - loss: 0.3661 - accuracy: 0.8680 - val_loss: 0.9768 - val_accuracy: 0.7196\n",
            "Epoch 19/20\n",
            "1250/1250 [==============================] - 7s 5ms/step - loss: 0.3531 - accuracy: 0.8751 - val_loss: 1.0089 - val_accuracy: 0.7230\n",
            "Epoch 20/20\n",
            "1250/1250 [==============================] - 7s 5ms/step - loss: 0.3304 - accuracy: 0.8835 - val_loss: 1.0595 - val_accuracy: 0.7186\n"
          ]
        },
        {
          "output_type": "display_data",
          "data": {
            "text/plain": [
              "<Figure size 432x288 with 1 Axes>"
            ],
            "image/png": "[encoded data removed]"
          },
          "metadata": {
            "needs_background": "light"
          }
        },
        {
          "output_type": "stream",
          "name": "stdout",
          "text": [
            "313/313 [==============================] - 1s 3ms/step - loss: 1.0787 - accuracy: 0.7122\n",
            "Error en el conjunto de test: 0.28780001401901245\n",
            "\n",
            "\n",
            "\n",
            "Regularización por dropout con p = 0.5\n",
            "Epoch 1/20\n",
            "1250/1250 [==============================] - 7s 6ms/step - loss: 1.6527 - accuracy: 0.3853 - val_loss: 1.3075 - val_accuracy: 0.5231\n",
            "Epoch 2/20\n",
            "1250/1250 [==============================] - 7s 5ms/step - loss: 1.3028 - accuracy: 0.5341 - val_loss: 1.2601 - val_accuracy: 0.5592\n",
            "Epoch 3/20\n",
            "1250/1250 [==============================] - 6s 5ms/step - loss: 1.1773 - accuracy: 0.5800 - val_loss: 1.0331 - val_accuracy: 0.6291\n",
            "Epoch 4/20\n",
            "1250/1250 [==============================] - 6s 5ms/step - loss: 1.0762 - accuracy: 0.6224 - val_loss: 0.9664 - val_accuracy: 0.6611\n",
            "Epoch 5/20\n",
            "1250/1250 [==============================] - 7s 5ms/step - loss: 1.0056 - accuracy: 0.6489 - val_loss: 0.9710 - val_accuracy: 0.6626\n",
            "Epoch 6/20\n",
            "1250/1250 [==============================] - 6s 5ms/step - loss: 0.9536 - accuracy: 0.6685 - val_loss: 0.9021 - val_accuracy: 0.6866\n",
            "Epoch 7/20\n",
            "1250/1250 [==============================] - 6s 5ms/step - loss: 0.8997 - accuracy: 0.6881 - val_loss: 0.9739 - val_accuracy: 0.6588\n",
            "Epoch 8/20\n",
            "1250/1250 [==============================] - 7s 5ms/step - loss: 0.8638 - accuracy: 0.7004 - val_loss: 0.8620 - val_accuracy: 0.7016\n",
            "Epoch 9/20\n",
            "1250/1250 [==============================] - 7s 5ms/step - loss: 0.8187 - accuracy: 0.7120 - val_loss: 0.8868 - val_accuracy: 0.6964\n",
            "Epoch 10/20\n",
            "1250/1250 [==============================] - 7s 5ms/step - loss: 0.7934 - accuracy: 0.7251 - val_loss: 0.8415 - val_accuracy: 0.7128\n",
            "Epoch 11/20\n",
            "1250/1250 [==============================] - 7s 5ms/step - loss: 0.7662 - accuracy: 0.7330 - val_loss: 0.8095 - val_accuracy: 0.7259\n",
            "Epoch 12/20\n",
            "1250/1250 [==============================] - 6s 5ms/step - loss: 0.7348 - accuracy: 0.7427 - val_loss: 0.8010 - val_accuracy: 0.7253\n",
            "Epoch 13/20\n",
            "1250/1250 [==============================] - 7s 5ms/step - loss: 0.7032 - accuracy: 0.7544 - val_loss: 0.7856 - val_accuracy: 0.7283\n",
            "Epoch 14/20\n",
            "1250/1250 [==============================] - 6s 5ms/step - loss: 0.6798 - accuracy: 0.7611 - val_loss: 0.7975 - val_accuracy: 0.7276\n",
            "Epoch 15/20\n",
            "1250/1250 [==============================] - 7s 5ms/step - loss: 0.6589 - accuracy: 0.7708 - val_loss: 0.8439 - val_accuracy: 0.7227\n",
            "Epoch 16/20\n",
            "1250/1250 [==============================] - 7s 5ms/step - loss: 0.6421 - accuracy: 0.7785 - val_loss: 0.7680 - val_accuracy: 0.7456\n",
            "Epoch 17/20\n",
            "1250/1250 [==============================] - 6s 5ms/step - loss: 0.6227 - accuracy: 0.7836 - val_loss: 0.7944 - val_accuracy: 0.7361\n",
            "Epoch 18/20\n",
            "1250/1250 [==============================] - 7s 5ms/step - loss: 0.5960 - accuracy: 0.7897 - val_loss: 0.7892 - val_accuracy: 0.7349\n",
            "Epoch 19/20\n",
            "1250/1250 [==============================] - 7s 5ms/step - loss: 0.5842 - accuracy: 0.7971 - val_loss: 0.7882 - val_accuracy: 0.7427\n",
            "Epoch 20/20\n",
            "1250/1250 [==============================] - 7s 5ms/step - loss: 0.5610 - accuracy: 0.8045 - val_loss: 0.7720 - val_accuracy: 0.7480\n"
          ]
        },
        {
          "output_type": "display_data",
          "data": {
            "text/plain": [
              "<Figure size 432x288 with 1 Axes>"
            ],
            "image/png": "[encoded data removed]"
          },
          "metadata": {
            "needs_background": "light"
          }
        },
        {
          "output_type": "stream",
          "name": "stdout",
          "text": [
            "313/313 [==============================] - 1s 3ms/step - loss: 0.8037 - accuracy: 0.7457\n",
            "Error en el conjunto de test: 0.25429999828338623\n",
            "\n",
            "\n",
            "\n"
          ]
        }
      ]
    },
    {
      "cell_type": "markdown",
      "source": [
        "Para p = 0.2 se puede ver que se produce sobreajuste a partir de las tres épocas. En cambio, para p = 0.5 esto se soluciona considerablemente hasta las últimas épocas en donde se puede apreciar cierto sobreajuste. Quizá aumentando la cantidad de épocas encontremos más sobreajuste y tengamos que reconsiderar dónde realizar los dropouts y con qué valores de p. Para p = 0.5, también, se puede apreciar que el error de test es menor que para 0.2. "
      ],
      "metadata": {
        "id": "9UVZ5kWbtGcC"
      }
    },
    {
      "cell_type": "code",
      "source": [
        "def ej3():\n",
        "  img_height = 32\n",
        "  img_width = 32\n",
        "  data_augmentation = keras.Sequential(\n",
        "      [\n",
        "            layers.RandomFlip(\"horizontal\", input_shape=(img_height, img_width, 3)),\n",
        "            layers.RandomRotation(0.1),\n",
        "            layers.RandomZoom(0.1),\n",
        "      ]\n",
        "  )\n",
        "\n",
        "  model = models.Sequential()\n",
        "  model.add(data_augmentation)\n",
        "  model.add(layers.Conv2D(32, (3, 3), activation='relu', padding='same', input_shape=(32, 32, 3)))\n",
        "  model.add(layers.MaxPooling2D((2, 2)))\n",
        "  model.add(layers.Conv2D(64, (3, 3), padding='same', activation='relu'))\n",
        "  model.add(layers.Conv2D(64, (3, 3), padding='same', activation='relu'))\n",
        "  model.add(layers.MaxPooling2D((2, 2)))\n",
        "  model.add(layers.Conv2D(64, (3, 3), padding='same', activation='relu'))\n",
        "  model.add(layers.Conv2D(64, (3, 3), padding='same', activation='relu'))\n",
        "\n",
        "  # p = 0.5 fue el dropout óptimo del ejercicio anterior.\n",
        "  model.add(layers.Dropout(0.5, input_shape=(32, 32, 3)))\n",
        "  model.add(layers.Flatten())\n",
        "\n",
        "  model.add(layers.Dense(64))\n",
        "  model.add(layers.Dropout(0.5, input_shape=(32, 32, 3)))\n",
        "\n",
        "  model.add(layers.Dense(128))\n",
        "  model.add(layers.Dense(128))\n",
        "  model.add(layers.Dense(10))\n",
        "\n",
        "  return ej2_fit(model)"
      ],
      "metadata": {
        "id": "YWPAJgshtrKi"
      },
      "execution_count": 14,
      "outputs": []
    },
    {
      "cell_type": "code",
      "source": [
        "history, fit_model, test_images, test_labels = ej3()"
      ],
      "metadata": {
        "colab": {
          "base_uri": "https://localhost:8080/"
        },
        "id": "tOQedV6nuuEK",
        "outputId": "cede51df-6057-4435-ffef-9349040b6df6"
      },
      "execution_count": 17,
      "outputs": [
        {
          "output_type": "stream",
          "name": "stdout",
          "text": [
            "Epoch 1/20\n",
            "1250/1250 [==============================] - 10s 7ms/step - loss: 1.7803 - accuracy: 0.3442 - val_loss: 1.4267 - val_accuracy: 0.4686\n",
            "Epoch 2/20\n",
            "1250/1250 [==============================] - 7s 6ms/step - loss: 1.5577 - accuracy: 0.4313 - val_loss: 1.3988 - val_accuracy: 0.5005\n",
            "Epoch 3/20\n",
            "1250/1250 [==============================] - 8s 6ms/step - loss: 1.4530 - accuracy: 0.4745 - val_loss: 1.2174 - val_accuracy: 0.5622\n",
            "Epoch 4/20\n",
            "1250/1250 [==============================] - 8s 6ms/step - loss: 1.3891 - accuracy: 0.5037 - val_loss: 1.1972 - val_accuracy: 0.5690\n",
            "Epoch 5/20\n",
            "1250/1250 [==============================] - 8s 6ms/step - loss: 1.3326 - accuracy: 0.5242 - val_loss: 1.2303 - val_accuracy: 0.5602\n",
            "Epoch 6/20\n",
            "1250/1250 [==============================] - 7s 6ms/step - loss: 1.2913 - accuracy: 0.5421 - val_loss: 1.1619 - val_accuracy: 0.5884\n",
            "Epoch 7/20\n",
            "1250/1250 [==============================] - 7s 6ms/step - loss: 1.2713 - accuracy: 0.5526 - val_loss: 1.1123 - val_accuracy: 0.6051\n",
            "Epoch 8/20\n",
            "1250/1250 [==============================] - 7s 6ms/step - loss: 1.2389 - accuracy: 0.5656 - val_loss: 1.1133 - val_accuracy: 0.6131\n",
            "Epoch 9/20\n",
            "1250/1250 [==============================] - 8s 6ms/step - loss: 1.2127 - accuracy: 0.5745 - val_loss: 1.1474 - val_accuracy: 0.6079\n",
            "Epoch 10/20\n",
            "1250/1250 [==============================] - 7s 6ms/step - loss: 1.1932 - accuracy: 0.5812 - val_loss: 1.0628 - val_accuracy: 0.6353\n",
            "Epoch 11/20\n",
            "1250/1250 [==============================] - 7s 6ms/step - loss: 1.1635 - accuracy: 0.5918 - val_loss: 0.9928 - val_accuracy: 0.6599\n",
            "Epoch 12/20\n",
            "1250/1250 [==============================] - 7s 6ms/step - loss: 1.1502 - accuracy: 0.6004 - val_loss: 0.9813 - val_accuracy: 0.6649\n",
            "Epoch 13/20\n",
            "1250/1250 [==============================] - 8s 6ms/step - loss: 1.1355 - accuracy: 0.6076 - val_loss: 1.0171 - val_accuracy: 0.6466\n",
            "Epoch 14/20\n",
            "1250/1250 [==============================] - 7s 6ms/step - loss: 1.1160 - accuracy: 0.6106 - val_loss: 0.9933 - val_accuracy: 0.6626\n",
            "Epoch 15/20\n",
            "1250/1250 [==============================] - 7s 6ms/step - loss: 1.0957 - accuracy: 0.6194 - val_loss: 0.9471 - val_accuracy: 0.6755\n",
            "Epoch 16/20\n",
            "1250/1250 [==============================] - 8s 6ms/step - loss: 1.0838 - accuracy: 0.6227 - val_loss: 0.9392 - val_accuracy: 0.6740\n",
            "Epoch 17/20\n",
            "1250/1250 [==============================] - 7s 6ms/step - loss: 1.0717 - accuracy: 0.6263 - val_loss: 0.9545 - val_accuracy: 0.6725\n",
            "Epoch 18/20\n",
            "1250/1250 [==============================] - 8s 6ms/step - loss: 1.0586 - accuracy: 0.6321 - val_loss: 0.9890 - val_accuracy: 0.6662\n",
            "Epoch 19/20\n",
            "1250/1250 [==============================] - 8s 6ms/step - loss: 1.0453 - accuracy: 0.6364 - val_loss: 0.9101 - val_accuracy: 0.6870\n",
            "Epoch 20/20\n",
            "1250/1250 [==============================] - 7s 6ms/step - loss: 1.0448 - accuracy: 0.6371 - val_loss: 0.9007 - val_accuracy: 0.6948\n"
          ]
        }
      ]
    },
    {
      "cell_type": "code",
      "source": [
        "graph_errores(history, fit_model)\n",
        "evaluate(fit_model, test_images, test_labels)"
      ],
      "metadata": {
        "colab": {
          "base_uri": "https://localhost:8080/",
          "height": 316
        },
        "id": "V1wn2UPGuvM3",
        "outputId": "c6775704-5023-48a9-df1f-8fd4236d45f5"
      },
      "execution_count": 18,
      "outputs": [
        {
          "output_type": "display_data",
          "data": {
            "text/plain": [
              "<Figure size 432x288 with 1 Axes>"
            ],
            "image/png": "[encoded data removed]"
          },
          "metadata": {
            "needs_background": "light"
          }
        },
        {
          "output_type": "stream",
          "name": "stdout",
          "text": [
            "313/313 [==============================] - 1s 3ms/step - loss: 0.9267 - accuracy: 0.6872\n",
            "Error en el conjunto de test: 0.31279999017715454\n"
          ]
        }
      ]
    },
    {
      "cell_type": "markdown",
      "source": [
        "A diferencia del modelo anterior, vemos que no se produce sobreajuste. Sin embargo, el error sobre el conjunto de test es mayor (aprox. 0.31 contra aprox. 0.25) por lo cual nos queda que la capa de data augmentation es útil solo para evitar el sobreajuste.  "
      ],
      "metadata": {
        "id": "VM-aCphzvgH_"
      }
    }
  ]
}